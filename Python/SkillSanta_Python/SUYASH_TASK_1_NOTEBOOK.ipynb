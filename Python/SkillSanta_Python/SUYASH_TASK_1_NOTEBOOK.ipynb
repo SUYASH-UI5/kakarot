{
 "cells": [
  {
   "cell_type": "markdown",
   "metadata": {},
   "source": [
    "# 1. To find the maximum element of the list"
   ]
  },
  {
   "cell_type": "code",
   "execution_count": 6,
   "metadata": {},
   "outputs": [
    {
     "name": "stdout",
     "output_type": "stream",
     "text": [
      "89 is the maximum number in the list \n"
     ]
    }
   ],
   "source": [
    "num_list = [45, 23, 78, 23, 89, 23]\n",
    "print(\"{} is the maximum number in the list \".format(max(num_list)))"
   ]
  },
  {
   "cell_type": "markdown",
   "metadata": {},
   "source": [
    "# 2. To find second largest element of the list"
   ]
  },
  {
   "cell_type": "code",
   "execution_count": 2,
   "metadata": {},
   "outputs": [
    {
     "name": "stdout",
     "output_type": "stream",
     "text": [
      "second largest number of list is 84\n"
     ]
    }
   ],
   "source": [
    "list = [67, 23, 84, 13, 91, 46]\n",
    "list.sort(reverse = True)\n",
    "print(\"second largest number of list is {}\".format(list[1]))"
   ]
  },
  {
   "cell_type": "markdown",
   "metadata": {},
   "source": [
    "# 3. Merge two lists and sort it"
   ]
  },
  {
   "cell_type": "code",
   "execution_count": 3,
   "metadata": {},
   "outputs": [
    {
     "data": {
      "text/plain": [
       "[10, 12, 21, 23, 45, 56, 71, 78, 89, 90, 91, 94]"
      ]
     },
     "execution_count": 3,
     "metadata": {},
     "output_type": "execute_result"
    }
   ],
   "source": [
    "list_1 = [90, 45, 12, 78, 23, 91]\n",
    "list_2 = [89, 56, 71, 94, 21, 10]\n",
    "list_merged = list_1 + list_2\n",
    "list_merged.sort()\n",
    "list_merged"
   ]
  },
  {
   "cell_type": "markdown",
   "metadata": {},
   "source": [
    "# 4. To swap first & last element of the list"
   ]
  },
  {
   "cell_type": "code",
   "execution_count": 4,
   "metadata": {},
   "outputs": [
    {
     "data": {
      "text/plain": [
       "[10, 39, 12, 56, 224, 90]"
      ]
     },
     "execution_count": 4,
     "metadata": {},
     "output_type": "execute_result"
    }
   ],
   "source": [
    "list_num = [90, 39, 12, 56, 224, 10]\n",
    "list_num[0], list_num[len(list_num) - 1] = list_num[len(list_num) - 1], list_num[0]\n",
    "list_num"
   ]
  }
 ],
 "metadata": {
  "kernelspec": {
   "display_name": "Python 3",
   "language": "python",
   "name": "python3"
  },
  "language_info": {
   "codemirror_mode": {
    "name": "ipython",
    "version": 3
   },
   "file_extension": ".py",
   "mimetype": "text/x-python",
   "name": "python",
   "nbconvert_exporter": "python",
   "pygments_lexer": "ipython3",
   "version": "3.8.5"
  }
 },
 "nbformat": 4,
 "nbformat_minor": 4
}
